{
 "cells": [
  {
   "cell_type": "markdown",
   "id": "04de84fd",
   "metadata": {},
   "source": [
    "# Importing Libraries"
   ]
  },
  {
   "cell_type": "code",
   "execution_count": 2,
   "id": "29d6ac3a",
   "metadata": {},
   "outputs": [],
   "source": [
    "import pandas as pd\n",
    "import numpy as np\n",
    "import matplotlib.pyplot as plt"
   ]
  },
  {
   "cell_type": "markdown",
   "id": "a52ef718",
   "metadata": {},
   "source": [
    "# Import data set"
   ]
  },
  {
   "cell_type": "code",
   "execution_count": 3,
   "id": "38e3edf0",
   "metadata": {},
   "outputs": [
    {
     "data": {
      "text/html": [
       "<div>\n",
       "<style scoped>\n",
       "    .dataframe tbody tr th:only-of-type {\n",
       "        vertical-align: middle;\n",
       "    }\n",
       "\n",
       "    .dataframe tbody tr th {\n",
       "        vertical-align: top;\n",
       "    }\n",
       "\n",
       "    .dataframe thead th {\n",
       "        text-align: right;\n",
       "    }\n",
       "</style>\n",
       "<table border=\"1\" class=\"dataframe\">\n",
       "  <thead>\n",
       "    <tr style=\"text-align: right;\">\n",
       "      <th></th>\n",
       "      <th>age</th>\n",
       "      <th>Body Temp</th>\n",
       "      <th>Chronic disease</th>\n",
       "      <th>Blood O2 Level in Percentage</th>\n",
       "      <th>Anti Bodies</th>\n",
       "    </tr>\n",
       "  </thead>\n",
       "  <tbody>\n",
       "    <tr>\n",
       "      <th>0</th>\n",
       "      <td>10</td>\n",
       "      <td>Moderate</td>\n",
       "      <td>0</td>\n",
       "      <td>97</td>\n",
       "      <td>127181</td>\n",
       "    </tr>\n",
       "    <tr>\n",
       "      <th>1</th>\n",
       "      <td>80</td>\n",
       "      <td>High</td>\n",
       "      <td>0</td>\n",
       "      <td>92</td>\n",
       "      <td>61004</td>\n",
       "    </tr>\n",
       "    <tr>\n",
       "      <th>2</th>\n",
       "      <td>10</td>\n",
       "      <td>Low</td>\n",
       "      <td>0</td>\n",
       "      <td>97</td>\n",
       "      <td>111911</td>\n",
       "    </tr>\n",
       "    <tr>\n",
       "      <th>3</th>\n",
       "      <td>81</td>\n",
       "      <td>High</td>\n",
       "      <td>4</td>\n",
       "      <td>75</td>\n",
       "      <td>39010</td>\n",
       "    </tr>\n",
       "    <tr>\n",
       "      <th>4</th>\n",
       "      <td>12</td>\n",
       "      <td>Moderate</td>\n",
       "      <td>0</td>\n",
       "      <td>97</td>\n",
       "      <td>110911</td>\n",
       "    </tr>\n",
       "  </tbody>\n",
       "</table>\n",
       "</div>"
      ],
      "text/plain": [
       "   age Body Temp  Chronic disease  Blood O2 Level in Percentage  Anti Bodies\n",
       "0   10  Moderate                0                            97       127181\n",
       "1   80      High                0                            92        61004\n",
       "2   10       Low                0                            97       111911\n",
       "3   81      High                4                            75        39010\n",
       "4   12  Moderate                0                            97       110911"
      ]
     },
     "execution_count": 3,
     "metadata": {},
     "output_type": "execute_result"
    }
   ],
   "source": [
    "data_set=pd.read_csv(r\"C:\\Users\\yaksh\\OneDrive\\Desktop\\programing\\ML\\ML data\\Dataset_master.xlsx - Covid_data Multiple Linear Regr.csv\")\n",
    "data_set.head()"
   ]
  },
  {
   "cell_type": "code",
   "execution_count": 4,
   "id": "6c111fe3",
   "metadata": {},
   "outputs": [],
   "source": [
    "X=data_set.iloc[:,:4].values\n",
    "Y=data_set.iloc[:,-1:].values"
   ]
  },
  {
   "cell_type": "code",
   "execution_count": 5,
   "id": "87d5cee9",
   "metadata": {
    "scrolled": true
   },
   "outputs": [
    {
     "name": "stdout",
     "output_type": "stream",
     "text": [
      "[[10 'Moderate' 0 97]\n",
      " [80 'High' 0 92]\n",
      " [10 'Low' 0 97]\n",
      " [81 'High' 4 75]\n",
      " [12 'Moderate' 0 97]\n",
      " [18 'Low' 0 66]\n",
      " [13 'Moderate' 0 93]\n",
      " [94 'High' 4 64]\n",
      " [86 'High' 2 76]\n",
      " [20 'Moderate' 0 92]\n",
      " [15 'Moderate' 0 94]\n",
      " [15 'Moderate' 0 92]\n",
      " [16 'Low' 0 92]\n",
      " [17 'Moderate' 0 93]\n",
      " [18 'Moderate' 0 93]\n",
      " [19 'Moderate' 0 92]\n",
      " [19 'Moderate' 0 89]\n",
      " [12 'Moderate' 0 97]\n",
      " [20 'Moderate' 0 93]\n",
      " [24 'Moderate' 0 92]\n",
      " [25 'Moderate' 0 93]\n",
      " [59 'High' 2 68]\n",
      " [63 'High' 1 66]\n",
      " [25 'Moderate' 1 62]\n",
      " [26 'High' 0 94]\n",
      " [26 'Low' 0 97]\n",
      " [28 'Moderate' 0 99]\n",
      " [59 'High' 0 69]\n",
      " [28 'Moderate' 0 89]\n",
      " [29 'Moderate' 0 93]\n",
      " [48 'Moderate' 0 93]\n",
      " [30 'Moderate' 0 62]\n",
      " [30 'Moderate' 0 86]\n",
      " [32 'Moderate' 0 84]\n",
      " [34 'Moderate' 1 90]\n",
      " [35 'Moderate' 0 89]\n",
      " [50 'High' 2 77]\n",
      " [56 'High' 2 76]\n",
      " [56 'High' 1 77]\n",
      " [36 'High' 1 90]\n",
      " [38 'High' 2 75]\n",
      " [40 'Moderate' 0 90]\n",
      " [40 'High' 0 92]\n",
      " [61 'High' 2 76]\n",
      " [42 'High' 0 92]\n",
      " [46 'High' 0 91]\n",
      " [49 'Moderate' 0 80]\n",
      " [52 'High' 1 80]\n",
      " [32 'Moderate' 0 89]\n",
      " [53 'High' 1 55]\n",
      " [54 'High' 1 70]\n",
      " [90 'High' 3 67]\n",
      " [78 'High' 2 71]\n",
      " [58 'High' 0 70]\n",
      " [60 'High' 1 68]\n",
      " [61 'Moderate' 0 90]\n",
      " [62 'High' 1 68]\n",
      " [86 'High' 3 71]\n",
      " [62 'High' 2 69]\n",
      " [64 'High' 1 73]\n",
      " [68 'High' 1 67]\n",
      " [69 'High' 0 53]\n",
      " [70 'Moderate' 1 88]\n",
      " [74 'High' 2 75]\n",
      " [75 'High' 1 72]\n",
      " [76 'High' 4 80]\n",
      " [35 'Moderate' 0 92]\n",
      " [13 'Moderate' 0 94]\n",
      " [82 'High' 3 73]\n",
      " [84 'High' 3 75]]\n"
     ]
    }
   ],
   "source": [
    "print(X)"
   ]
  },
  {
   "cell_type": "code",
   "execution_count": 6,
   "id": "2e08b2f2",
   "metadata": {
    "scrolled": true
   },
   "outputs": [
    {
     "name": "stdout",
     "output_type": "stream",
     "text": [
      "[[127181]\n",
      " [ 61004]\n",
      " [111911]\n",
      " [ 39010]\n",
      " [110911]\n",
      " [ 99110]\n",
      " [110101]\n",
      " [ 37914]\n",
      " [ 45019]\n",
      " [ 98101]\n",
      " [101000]\n",
      " [102019]\n",
      " [100000]\n",
      " [ 99910]\n",
      " [ 99004]\n",
      " [ 98191]\n",
      " [ 98081]\n",
      " [110911]\n",
      " [ 97101]\n",
      " [ 95202]\n",
      " [ 95010]\n",
      " [ 61002]\n",
      " [ 59994]\n",
      " [ 78010]\n",
      " [ 92010]\n",
      " [ 99008]\n",
      " [ 93010]\n",
      " [ 66019]\n",
      " [ 93091]\n",
      " [ 92101]\n",
      " [ 83891]\n",
      " [ 75012]\n",
      " [ 91002]\n",
      " [ 90015]\n",
      " [ 90001]\n",
      " [ 90124]\n",
      " [ 71019]\n",
      " [ 60801]\n",
      " [ 67010]\n",
      " [ 90191]\n",
      " [ 78004]\n",
      " [ 87019]\n",
      " [ 88012]\n",
      " [ 62019]\n",
      " [ 87005]\n",
      " [ 84008]\n",
      " [ 77010]\n",
      " [ 73010]\n",
      " [ 91019]\n",
      " [ 50104]\n",
      " [ 61082]\n",
      " [ 46016]\n",
      " [ 52001]\n",
      " [ 63091]\n",
      " [ 62019]\n",
      " [ 71191]\n",
      " [ 61018]\n",
      " [ 41891]\n",
      " [ 56095]\n",
      " [ 62001]\n",
      " [ 59010]\n",
      " [ 59913]\n",
      " [ 67019]\n",
      " [ 58010]\n",
      " [ 57019]\n",
      " [ 39010]\n",
      " [ 91141]\n",
      " [112101]\n",
      " [ 42010]\n",
      " [ 42099]]\n"
     ]
    }
   ],
   "source": [
    "print(Y)"
   ]
  },
  {
   "cell_type": "markdown",
   "id": "f3e1ac76",
   "metadata": {},
   "source": [
    "# Data Encoding"
   ]
  },
  {
   "cell_type": "code",
   "execution_count": 7,
   "id": "948d7392",
   "metadata": {},
   "outputs": [],
   "source": [
    "# here we will be using encoding because we have categorical data This is done so that the MACHINE LEARNING algorithm will run smooth\n",
    "from sklearn.compose import ColumnTransformer\n",
    "from sklearn.preprocessing import OneHotEncoder"
   ]
  },
  {
   "cell_type": "code",
   "execution_count": 8,
   "id": "b0b73f36",
   "metadata": {},
   "outputs": [],
   "source": [
    "ct=ColumnTransformer(transformers=[('encoding',OneHotEncoder(),[1])],remainder='passthrough')\n",
    "X=np.array(ct.fit_transform(X))"
   ]
  },
  {
   "cell_type": "code",
   "execution_count": 9,
   "id": "0d46c54f",
   "metadata": {
    "scrolled": true
   },
   "outputs": [
    {
     "name": "stdout",
     "output_type": "stream",
     "text": [
      "[[0.0 0.0 1.0 10 0 97]\n",
      " [1.0 0.0 0.0 80 0 92]\n",
      " [0.0 1.0 0.0 10 0 97]\n",
      " [1.0 0.0 0.0 81 4 75]\n",
      " [0.0 0.0 1.0 12 0 97]\n",
      " [0.0 1.0 0.0 18 0 66]\n",
      " [0.0 0.0 1.0 13 0 93]\n",
      " [1.0 0.0 0.0 94 4 64]\n",
      " [1.0 0.0 0.0 86 2 76]\n",
      " [0.0 0.0 1.0 20 0 92]\n",
      " [0.0 0.0 1.0 15 0 94]\n",
      " [0.0 0.0 1.0 15 0 92]\n",
      " [0.0 1.0 0.0 16 0 92]\n",
      " [0.0 0.0 1.0 17 0 93]\n",
      " [0.0 0.0 1.0 18 0 93]\n",
      " [0.0 0.0 1.0 19 0 92]\n",
      " [0.0 0.0 1.0 19 0 89]\n",
      " [0.0 0.0 1.0 12 0 97]\n",
      " [0.0 0.0 1.0 20 0 93]\n",
      " [0.0 0.0 1.0 24 0 92]\n",
      " [0.0 0.0 1.0 25 0 93]\n",
      " [1.0 0.0 0.0 59 2 68]\n",
      " [1.0 0.0 0.0 63 1 66]\n",
      " [0.0 0.0 1.0 25 1 62]\n",
      " [1.0 0.0 0.0 26 0 94]\n",
      " [0.0 1.0 0.0 26 0 97]\n",
      " [0.0 0.0 1.0 28 0 99]\n",
      " [1.0 0.0 0.0 59 0 69]\n",
      " [0.0 0.0 1.0 28 0 89]\n",
      " [0.0 0.0 1.0 29 0 93]\n",
      " [0.0 0.0 1.0 48 0 93]\n",
      " [0.0 0.0 1.0 30 0 62]\n",
      " [0.0 0.0 1.0 30 0 86]\n",
      " [0.0 0.0 1.0 32 0 84]\n",
      " [0.0 0.0 1.0 34 1 90]\n",
      " [0.0 0.0 1.0 35 0 89]\n",
      " [1.0 0.0 0.0 50 2 77]\n",
      " [1.0 0.0 0.0 56 2 76]\n",
      " [1.0 0.0 0.0 56 1 77]\n",
      " [1.0 0.0 0.0 36 1 90]\n",
      " [1.0 0.0 0.0 38 2 75]\n",
      " [0.0 0.0 1.0 40 0 90]\n",
      " [1.0 0.0 0.0 40 0 92]\n",
      " [1.0 0.0 0.0 61 2 76]\n",
      " [1.0 0.0 0.0 42 0 92]\n",
      " [1.0 0.0 0.0 46 0 91]\n",
      " [0.0 0.0 1.0 49 0 80]\n",
      " [1.0 0.0 0.0 52 1 80]\n",
      " [0.0 0.0 1.0 32 0 89]\n",
      " [1.0 0.0 0.0 53 1 55]\n",
      " [1.0 0.0 0.0 54 1 70]\n",
      " [1.0 0.0 0.0 90 3 67]\n",
      " [1.0 0.0 0.0 78 2 71]\n",
      " [1.0 0.0 0.0 58 0 70]\n",
      " [1.0 0.0 0.0 60 1 68]\n",
      " [0.0 0.0 1.0 61 0 90]\n",
      " [1.0 0.0 0.0 62 1 68]\n",
      " [1.0 0.0 0.0 86 3 71]\n",
      " [1.0 0.0 0.0 62 2 69]\n",
      " [1.0 0.0 0.0 64 1 73]\n",
      " [1.0 0.0 0.0 68 1 67]\n",
      " [1.0 0.0 0.0 69 0 53]\n",
      " [0.0 0.0 1.0 70 1 88]\n",
      " [1.0 0.0 0.0 74 2 75]\n",
      " [1.0 0.0 0.0 75 1 72]\n",
      " [1.0 0.0 0.0 76 4 80]\n",
      " [0.0 0.0 1.0 35 0 92]\n",
      " [0.0 0.0 1.0 13 0 94]\n",
      " [1.0 0.0 0.0 82 3 73]\n",
      " [1.0 0.0 0.0 84 3 75]]\n"
     ]
    }
   ],
   "source": [
    "print(X)"
   ]
  },
  {
   "cell_type": "markdown",
   "id": "7fa2b9dd",
   "metadata": {},
   "source": [
    "# Testing and Traning data"
   ]
  },
  {
   "cell_type": "code",
   "execution_count": 10,
   "id": "961e3bb9",
   "metadata": {},
   "outputs": [],
   "source": [
    "from sklearn.model_selection import train_test_split\n",
    "X_train,X_test,Y_train,Y_test=train_test_split(X,Y,test_size=0.3,random_state=0)\n"
   ]
  },
  {
   "cell_type": "code",
   "execution_count": 11,
   "id": "3eef2c13",
   "metadata": {
    "scrolled": true
   },
   "outputs": [
    {
     "name": "stdout",
     "output_type": "stream",
     "text": [
      "[[1.0 0.0 0.0 54 1 70]\n",
      " [0.0 1.0 0.0 10 0 97]\n",
      " [1.0 0.0 0.0 38 2 75]\n",
      " [0.0 0.0 1.0 15 0 92]\n",
      " [1.0 0.0 0.0 81 4 75]\n",
      " [1.0 0.0 0.0 60 1 68]\n",
      " [1.0 0.0 0.0 46 0 91]\n",
      " [0.0 0.0 1.0 15 0 94]\n",
      " [0.0 0.0 1.0 40 0 90]\n",
      " [1.0 0.0 0.0 53 1 55]\n",
      " [1.0 0.0 0.0 58 0 70]\n",
      " [1.0 0.0 0.0 86 3 71]\n",
      " [0.0 0.0 1.0 30 0 86]\n",
      " [0.0 0.0 1.0 18 0 93]\n",
      " [0.0 0.0 1.0 13 0 94]\n",
      " [0.0 0.0 1.0 24 0 92]\n",
      " [0.0 0.0 1.0 29 0 93]\n",
      " [1.0 0.0 0.0 78 2 71]\n",
      " [0.0 0.0 1.0 35 0 89]\n",
      " [0.0 0.0 1.0 20 0 93]\n",
      " [0.0 0.0 1.0 10 0 97]\n",
      " [0.0 0.0 1.0 19 0 92]\n",
      " [0.0 1.0 0.0 18 0 66]\n",
      " [0.0 0.0 1.0 19 0 89]\n",
      " [0.0 0.0 1.0 25 0 93]\n",
      " [0.0 0.0 1.0 35 0 92]\n",
      " [1.0 0.0 0.0 86 2 76]\n",
      " [0.0 0.0 1.0 17 0 93]\n",
      " [0.0 1.0 0.0 26 0 97]\n",
      " [1.0 0.0 0.0 56 2 76]\n",
      " [0.0 0.0 1.0 12 0 97]\n",
      " [1.0 0.0 0.0 68 1 67]\n",
      " [0.0 0.0 1.0 49 0 80]\n",
      " [1.0 0.0 0.0 74 2 75]\n",
      " [1.0 0.0 0.0 36 1 90]\n",
      " [1.0 0.0 0.0 56 1 77]\n",
      " [1.0 0.0 0.0 80 0 92]\n",
      " [1.0 0.0 0.0 62 2 69]\n",
      " [0.0 1.0 0.0 16 0 92]\n",
      " [1.0 0.0 0.0 69 0 53]\n",
      " [1.0 0.0 0.0 26 0 94]\n",
      " [0.0 0.0 1.0 13 0 93]\n",
      " [0.0 0.0 1.0 25 1 62]\n",
      " [1.0 0.0 0.0 50 2 77]\n",
      " [1.0 0.0 0.0 59 2 68]\n",
      " [0.0 0.0 1.0 20 0 92]\n",
      " [1.0 0.0 0.0 75 1 72]\n",
      " [1.0 0.0 0.0 52 1 80]\n",
      " [1.0 0.0 0.0 42 0 92]]\n"
     ]
    }
   ],
   "source": [
    "print(X_train)"
   ]
  },
  {
   "cell_type": "code",
   "execution_count": 12,
   "id": "5343e4df",
   "metadata": {
    "scrolled": true
   },
   "outputs": [
    {
     "name": "stdout",
     "output_type": "stream",
     "text": [
      "[[0.0 0.0 1.0 28 0 99]\n",
      " [1.0 0.0 0.0 59 0 69]\n",
      " [0.0 0.0 1.0 32 0 89]\n",
      " [1.0 0.0 0.0 63 1 66]\n",
      " [0.0 0.0 1.0 48 0 93]\n",
      " [1.0 0.0 0.0 90 3 67]\n",
      " [1.0 0.0 0.0 94 4 64]\n",
      " [1.0 0.0 0.0 64 1 73]\n",
      " [0.0 0.0 1.0 34 1 90]\n",
      " [1.0 0.0 0.0 84 3 75]\n",
      " [1.0 0.0 0.0 62 1 68]\n",
      " [0.0 0.0 1.0 28 0 89]\n",
      " [0.0 0.0 1.0 30 0 62]\n",
      " [1.0 0.0 0.0 40 0 92]\n",
      " [0.0 0.0 1.0 32 0 84]\n",
      " [0.0 0.0 1.0 61 0 90]\n",
      " [1.0 0.0 0.0 82 3 73]\n",
      " [0.0 0.0 1.0 70 1 88]\n",
      " [1.0 0.0 0.0 61 2 76]\n",
      " [0.0 0.0 1.0 12 0 97]\n",
      " [1.0 0.0 0.0 76 4 80]]\n"
     ]
    }
   ],
   "source": [
    "print(X_test)"
   ]
  },
  {
   "cell_type": "code",
   "execution_count": 13,
   "id": "62f955c0",
   "metadata": {
    "scrolled": true
   },
   "outputs": [
    {
     "name": "stdout",
     "output_type": "stream",
     "text": [
      "[[ 61082]\n",
      " [111911]\n",
      " [ 78004]\n",
      " [102019]\n",
      " [ 39010]\n",
      " [ 62019]\n",
      " [ 84008]\n",
      " [101000]\n",
      " [ 87019]\n",
      " [ 50104]\n",
      " [ 63091]\n",
      " [ 41891]\n",
      " [ 91002]\n",
      " [ 99004]\n",
      " [112101]\n",
      " [ 95202]\n",
      " [ 92101]\n",
      " [ 52001]\n",
      " [ 90124]\n",
      " [ 97101]\n",
      " [127181]\n",
      " [ 98191]\n",
      " [ 99110]\n",
      " [ 98081]\n",
      " [ 95010]\n",
      " [ 91141]\n",
      " [ 45019]\n",
      " [ 99910]\n",
      " [ 99008]\n",
      " [ 60801]\n",
      " [110911]\n",
      " [ 59010]\n",
      " [ 77010]\n",
      " [ 58010]\n",
      " [ 90191]\n",
      " [ 67010]\n",
      " [ 61004]\n",
      " [ 56095]\n",
      " [100000]\n",
      " [ 59913]\n",
      " [ 92010]\n",
      " [110101]\n",
      " [ 78010]\n",
      " [ 71019]\n",
      " [ 61002]\n",
      " [ 98101]\n",
      " [ 57019]\n",
      " [ 73010]\n",
      " [ 87005]]\n"
     ]
    }
   ],
   "source": [
    "print(Y_train)"
   ]
  },
  {
   "cell_type": "code",
   "execution_count": 14,
   "id": "7a5e6d6f",
   "metadata": {
    "scrolled": true
   },
   "outputs": [
    {
     "name": "stdout",
     "output_type": "stream",
     "text": [
      "[[ 93010]\n",
      " [ 66019]\n",
      " [ 91019]\n",
      " [ 59994]\n",
      " [ 83891]\n",
      " [ 46016]\n",
      " [ 37914]\n",
      " [ 62001]\n",
      " [ 90001]\n",
      " [ 42099]\n",
      " [ 61018]\n",
      " [ 93091]\n",
      " [ 75012]\n",
      " [ 88012]\n",
      " [ 90015]\n",
      " [ 71191]\n",
      " [ 42010]\n",
      " [ 67019]\n",
      " [ 62019]\n",
      " [110911]\n",
      " [ 39010]]\n"
     ]
    }
   ],
   "source": [
    "print(Y_test)"
   ]
  },
  {
   "cell_type": "markdown",
   "id": "5a9f185e",
   "metadata": {},
   "source": [
    "# Multiple Linear Regression Algorithm"
   ]
  },
  {
   "cell_type": "code",
   "execution_count": 15,
   "id": "7f27e759",
   "metadata": {},
   "outputs": [
    {
     "data": {
      "text/html": [
       "<style>#sk-container-id-1 {color: black;background-color: white;}#sk-container-id-1 pre{padding: 0;}#sk-container-id-1 div.sk-toggleable {background-color: white;}#sk-container-id-1 label.sk-toggleable__label {cursor: pointer;display: block;width: 100%;margin-bottom: 0;padding: 0.3em;box-sizing: border-box;text-align: center;}#sk-container-id-1 label.sk-toggleable__label-arrow:before {content: \"▸\";float: left;margin-right: 0.25em;color: #696969;}#sk-container-id-1 label.sk-toggleable__label-arrow:hover:before {color: black;}#sk-container-id-1 div.sk-estimator:hover label.sk-toggleable__label-arrow:before {color: black;}#sk-container-id-1 div.sk-toggleable__content {max-height: 0;max-width: 0;overflow: hidden;text-align: left;background-color: #f0f8ff;}#sk-container-id-1 div.sk-toggleable__content pre {margin: 0.2em;color: black;border-radius: 0.25em;background-color: #f0f8ff;}#sk-container-id-1 input.sk-toggleable__control:checked~div.sk-toggleable__content {max-height: 200px;max-width: 100%;overflow: auto;}#sk-container-id-1 input.sk-toggleable__control:checked~label.sk-toggleable__label-arrow:before {content: \"▾\";}#sk-container-id-1 div.sk-estimator input.sk-toggleable__control:checked~label.sk-toggleable__label {background-color: #d4ebff;}#sk-container-id-1 div.sk-label input.sk-toggleable__control:checked~label.sk-toggleable__label {background-color: #d4ebff;}#sk-container-id-1 input.sk-hidden--visually {border: 0;clip: rect(1px 1px 1px 1px);clip: rect(1px, 1px, 1px, 1px);height: 1px;margin: -1px;overflow: hidden;padding: 0;position: absolute;width: 1px;}#sk-container-id-1 div.sk-estimator {font-family: monospace;background-color: #f0f8ff;border: 1px dotted black;border-radius: 0.25em;box-sizing: border-box;margin-bottom: 0.5em;}#sk-container-id-1 div.sk-estimator:hover {background-color: #d4ebff;}#sk-container-id-1 div.sk-parallel-item::after {content: \"\";width: 100%;border-bottom: 1px solid gray;flex-grow: 1;}#sk-container-id-1 div.sk-label:hover label.sk-toggleable__label {background-color: #d4ebff;}#sk-container-id-1 div.sk-serial::before {content: \"\";position: absolute;border-left: 1px solid gray;box-sizing: border-box;top: 0;bottom: 0;left: 50%;z-index: 0;}#sk-container-id-1 div.sk-serial {display: flex;flex-direction: column;align-items: center;background-color: white;padding-right: 0.2em;padding-left: 0.2em;position: relative;}#sk-container-id-1 div.sk-item {position: relative;z-index: 1;}#sk-container-id-1 div.sk-parallel {display: flex;align-items: stretch;justify-content: center;background-color: white;position: relative;}#sk-container-id-1 div.sk-item::before, #sk-container-id-1 div.sk-parallel-item::before {content: \"\";position: absolute;border-left: 1px solid gray;box-sizing: border-box;top: 0;bottom: 0;left: 50%;z-index: -1;}#sk-container-id-1 div.sk-parallel-item {display: flex;flex-direction: column;z-index: 1;position: relative;background-color: white;}#sk-container-id-1 div.sk-parallel-item:first-child::after {align-self: flex-end;width: 50%;}#sk-container-id-1 div.sk-parallel-item:last-child::after {align-self: flex-start;width: 50%;}#sk-container-id-1 div.sk-parallel-item:only-child::after {width: 0;}#sk-container-id-1 div.sk-dashed-wrapped {border: 1px dashed gray;margin: 0 0.4em 0.5em 0.4em;box-sizing: border-box;padding-bottom: 0.4em;background-color: white;}#sk-container-id-1 div.sk-label label {font-family: monospace;font-weight: bold;display: inline-block;line-height: 1.2em;}#sk-container-id-1 div.sk-label-container {text-align: center;}#sk-container-id-1 div.sk-container {/* jupyter's `normalize.less` sets `[hidden] { display: none; }` but bootstrap.min.css set `[hidden] { display: none !important; }` so we also need the `!important` here to be able to override the default hidden behavior on the sphinx rendered scikit-learn.org. See: https://github.com/scikit-learn/scikit-learn/issues/21755 */display: inline-block !important;position: relative;}#sk-container-id-1 div.sk-text-repr-fallback {display: none;}</style><div id=\"sk-container-id-1\" class=\"sk-top-container\"><div class=\"sk-text-repr-fallback\"><pre>LinearRegression()</pre><b>In a Jupyter environment, please rerun this cell to show the HTML representation or trust the notebook. <br />On GitHub, the HTML representation is unable to render, please try loading this page with nbviewer.org.</b></div><div class=\"sk-container\" hidden><div class=\"sk-item\"><div class=\"sk-estimator sk-toggleable\"><input class=\"sk-toggleable__control sk-hidden--visually\" id=\"sk-estimator-id-1\" type=\"checkbox\" checked><label for=\"sk-estimator-id-1\" class=\"sk-toggleable__label sk-toggleable__label-arrow\">LinearRegression</label><div class=\"sk-toggleable__content\"><pre>LinearRegression()</pre></div></div></div></div></div>"
      ],
      "text/plain": [
       "LinearRegression()"
      ]
     },
     "execution_count": 15,
     "metadata": {},
     "output_type": "execute_result"
    }
   ],
   "source": [
    "from sklearn.linear_model import LinearRegression\n",
    "regressor=LinearRegression()\n",
    "regressor.fit(X_train,Y_train)"
   ]
  },
  {
   "cell_type": "code",
   "execution_count": 16,
   "id": "0ab5a73f",
   "metadata": {},
   "outputs": [
    {
     "name": "stdout",
     "output_type": "stream",
     "text": [
      "[[ 98425.796  93010.   ]\n",
      " [ 65642.292  66019.   ]\n",
      " [ 91524.677  91019.   ]\n",
      " [ 58819.1    59994.   ]\n",
      " [ 83159.044  83891.   ]\n",
      " [ 36222.332  46016.   ]\n",
      " [ 29399.14   37914.   ]\n",
      " [ 61247.661  62001.   ]\n",
      " [ 87714.798  90001.   ]\n",
      " [ 43513.286  42099.   ]\n",
      " [ 60325.757  61018.   ]\n",
      " [ 94053.331  93091.   ]\n",
      " [ 80983.35   75012.   ]\n",
      " [ 87710.07   88012.   ]\n",
      " [ 89338.444  90015.   ]\n",
      " [ 73629.177  71191.   ]\n",
      " [ 43903.12   42010.   ]\n",
      " [ 64082.413  67019.   ]\n",
      " [ 61473.094  62019.   ]\n",
      " [107665.922 110911.   ]\n",
      " [ 47774.029  39010.   ]]\n"
     ]
    }
   ],
   "source": [
    "y_pred=regressor.predict(X_test)\n",
    "np.set_printoptions(precision=3)\n",
    "a=y_pred.reshape(len(y_pred),1)\n",
    "b=Y_test.reshape(len(Y_test),1)\n",
    "print(np.concatenate((a,b),axis=1))"
   ]
  },
  {
   "cell_type": "code",
   "execution_count": 17,
   "id": "b650c40b",
   "metadata": {},
   "outputs": [
    {
     "data": {
      "text/plain": [
       "array([[ -797.173,  1525.31 ,  -728.137,  -632.164, -2982.798,   437.246]])"
      ]
     },
     "execution_count": 17,
     "metadata": {},
     "output_type": "execute_result"
    }
   ],
   "source": [
    "regressor.coef_"
   ]
  },
  {
   "cell_type": "code",
   "execution_count": 18,
   "id": "2b432366",
   "metadata": {},
   "outputs": [
    {
     "data": {
      "text/plain": [
       "array([73567.117])"
      ]
     },
     "execution_count": 18,
     "metadata": {},
     "output_type": "execute_result"
    }
   ],
   "source": [
    "regressor.intercept_"
   ]
  },
  {
   "cell_type": "markdown",
   "id": "2e59c2be",
   "metadata": {},
   "source": [
    "# VIsualization"
   ]
  },
  {
   "cell_type": "code",
   "execution_count": 26,
   "id": "32591072",
   "metadata": {
    "scrolled": false
   },
   "outputs": [
    {
     "data": {
      "text/plain": [
       "[<matplotlib.lines.Line2D at 0x1fb4e71b790>]"
      ]
     },
     "execution_count": 26,
     "metadata": {},
     "output_type": "execute_result"
    },
    {
     "data": {
      "image/png": "[encoded data removed]",
      "text/plain": [
       "<Figure size 640x480 with 1 Axes>"
      ]
     },
     "metadata": {},
     "output_type": "display_data"
    }
   ],
   "source": [
    "plt.plot(y_pred)\n",
    "plt.plot(Y_test)"
   ]
  },
  {
   "cell_type": "code",
   "execution_count": 27,
   "id": "8140c2ca",
   "metadata": {},
   "outputs": [
    {
     "data": {
      "text/plain": [
       "0.9608970352661702"
      ]
     },
     "execution_count": 27,
     "metadata": {},
     "output_type": "execute_result"
    }
   ],
   "source": [
    "from sklearn.metrics import r2_score\n",
    "r2_score(Y_test,y_pred)"
   ]
  },
  {
   "cell_type": "code",
   "execution_count": 23,
   "id": "1b112fab",
   "metadata": {},
   "outputs": [],
   "source": [
    "import pickle\n",
    "with open('algo','wb') as f:        # Pickling\n",
    "    pickle.dump(regressor,f)\n",
    "    "
   ]
  },
  {
   "cell_type": "code",
   "execution_count": 24,
   "id": "ca171fba",
   "metadata": {},
   "outputs": [],
   "source": [
    "with open('algo','rb') as f:\n",
    "    model=pickle.load(f)"
   ]
  },
  {
   "cell_type": "code",
   "execution_count": null,
   "id": "8a29f8f5",
   "metadata": {},
   "outputs": [],
   "source": []
  }
 ],
 "metadata": {
  "kernelspec": {
   "display_name": "Python 3 (ipykernel)",
   "language": "python",
   "name": "python3"
  },
  "language_info": {
   "codemirror_mode": {
    "name": "ipython",
    "version": 3
   },
   "file_extension": ".py",
   "mimetype": "text/x-python",
   "name": "python",
   "nbconvert_exporter": "python",
   "pygments_lexer": "ipython3",
   "version": "3.11.3"
  },
  "varInspector": {
   "cols": {
    "lenName": 16,
    "lenType": 16,
    "lenVar": 40
   },
   "kernels_config": {
    "python": {
     "delete_cmd_postfix": "",
     "delete_cmd_prefix": "del ",
     "library": "var_list.py",
     "varRefreshCmd": "print(var_dic_list())"
    },
    "r": {
     "delete_cmd_postfix": ") ",
     "delete_cmd_prefix": "rm(",
     "library": "var_list.r",
     "varRefreshCmd": "cat(var_dic_list()) "
    }
   },
   "types_to_exclude": [
    "module",
    "function",
    "builtin_function_or_method",
    "instance",
    "_Feature"
   ],
   "window_display": false
  }
 },
 "nbformat": 4,
 "nbformat_minor": 5
}
